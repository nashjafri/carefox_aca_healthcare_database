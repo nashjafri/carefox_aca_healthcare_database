{
 "cells": [
  {
   "cell_type": "code",
   "execution_count": 2,
   "id": "4cd20bfa-8cf9-4006-8bfe-deb83f3776e2",
   "metadata": {},
   "outputs": [],
   "source": [
    "import pandas as pd"
   ]
  },
  {
   "cell_type": "code",
   "execution_count": 8,
   "id": "be2d3f4a-5409-4a09-bcd8-4ab508ca2d1c",
   "metadata": {},
   "outputs": [],
   "source": [
    "plans = pd.read_csv('../data/normalized_tables/plans.csv')\n",
    "benefits = pd.read_csv('../data/normalized_tables/benefits.csv')\n",
    "premium = pd.read_csv('../data/normalized_tables/premium.csv')\n",
    "county_area = pd.read_csv('../data/normalized_tables/county_area_crosswalk.csv')\n",
    "zip_fips = pd.read_csv('../data/normalized_tables/zip_fips_crosswalk.csv')\n",
    "state_age = pd.read_csv('../data/normalized_tables/state_age_curve.csv')\n",
    "deductibles = pd.read_csv('../data/normalized_tables/deductibles.csv')\n",
    "moop = pd.read_csv('../data/normalized_tables/moop.csv')"
   ]
  },
  {
   "cell_type": "code",
   "execution_count": 10,
   "id": "d1e7c6ba-3c0f-475a-ad46-d4523b63891b",
   "metadata": {},
   "outputs": [
    {
     "name": "stdout",
     "output_type": "stream",
     "text": [
      "LIMITED unique values: [ 0. nan  1.]\n",
      "CopayInnTier1Complex unique values: [ 0. nan  1.]\n",
      "CopayInnTier2Complex unique values: [ 0. nan  1.]\n",
      "CoinsInnTier1Complex unique values: [ 0. nan  1.]\n",
      "CoinsInnTier2Complex unique values: [ 0. nan]\n",
      "CopayOutofNetComplex unique values: [ 0. nan  1.]\n",
      "CoinsOutofNetComplex unique values: [ 0. nan]\n"
     ]
    }
   ],
   "source": [
    "benefits_bool_cols = [\n",
    "    'LIMITED', 'CopayInnTier1Complex', 'CopayInnTier2Complex',\n",
    "    'CoinsInnTier1Complex', 'CoinsInnTier2Complex',\n",
    "    'CopayOutofNetComplex', 'CoinsOutofNetComplex'\n",
    "]\n",
    "\n",
    "for col in benefits_bool_cols:\n",
    "    print(f\"{col} unique values:\", benefits[col].unique())"
   ]
  },
  {
   "cell_type": "code",
   "execution_count": 18,
   "id": "b5f37994-a609-4770-b187-537a6ebf5677",
   "metadata": {},
   "outputs": [],
   "source": [
    "# Replace nan values by the code '99' for unknown and convert float to integer\n",
    "for col in benefits_bool_cols:\n",
    "    benefits[col] = pd.to_numeric(benefits[col], errors='coerce').fillna(99).astype(int)"
   ]
  },
  {
   "cell_type": "code",
   "execution_count": 16,
   "id": "fdb3eee8-debc-4f59-847a-83f8b5c44162",
   "metadata": {},
   "outputs": [
    {
     "name": "stdout",
     "output_type": "stream",
     "text": [
      "LIMITED unique values: [ 0 99  1]\n",
      "CopayInnTier1Complex unique values: [ 0 99  1]\n",
      "CopayInnTier2Complex unique values: [ 0 99  1]\n",
      "CoinsInnTier1Complex unique values: [ 0 99  1]\n",
      "CoinsInnTier2Complex unique values: [ 0 99]\n",
      "CopayOutofNetComplex unique values: [ 0 99  1]\n",
      "CoinsOutofNetComplex unique values: [ 0 99]\n"
     ]
    }
   ],
   "source": [
    "for col in benefits_bool_cols:\n",
    "    print(f\"{col} unique values:\", benefits[col].unique())"
   ]
  },
  {
   "cell_type": "code",
   "execution_count": 26,
   "id": "e6e25c26-5aad-4462-aa89-630cb3955438",
   "metadata": {},
   "outputs": [
    {
     "name": "stdout",
     "output_type": "stream",
     "text": [
      "LIMITED unique values: [ 0 99  1]\n",
      "CopayInn_TIERS unique values: [ 1.  2. nan  3.]\n",
      "CopayInnTier1Complex unique values: [ 0 99  1]\n",
      "CopayInnTier1 unique values: [ 0.  3.  4.  2.  1. nan  6.  8.]\n",
      "CopayInnTier2Complex unique values: [ 0 99  1]\n",
      "CopayInnTier2 unique values: [ 0.  3.  2. nan  1.  4.  6.  8.]\n",
      "CoinsInn_TIERS unique values: [ 1.  2. nan  3.]\n",
      "CoinsInnTier1Complex unique values: [ 0 99  1]\n",
      "CoinsInnTier1 unique values: [ 4.  3.  0. nan]\n",
      "CoinsInnTier2Complex unique values: [ 0 99]\n",
      "CoinsInnTier2 unique values: [ 0.  4.  3. nan]\n",
      "CopayOutofNetComplex unique values: [ 0 99  1]\n",
      "CopayOutofNet unique values: [ 0.  3.  4.  2.  1. nan  8.]\n",
      "CoinsOutofNetComplex unique values: [ 0 99]\n",
      "CoinsOutofNet unique values: [ 4.  3.  0. nan]\n"
     ]
    }
   ],
   "source": [
    "# The following columns are those which we need to be integer datatype in our database\n",
    "\n",
    "benefits_int_cols = [\n",
    "    'LIMITED', 'CopayInn_TIERS', 'CopayInnTier1Complex', 'CopayInnTier1',\n",
    "    'CopayInnTier2Complex', 'CopayInnTier2',\n",
    "    'CoinsInn_TIERS', 'CoinsInnTier1Complex', 'CoinsInnTier1',\n",
    "    'CoinsInnTier2Complex', 'CoinsInnTier2',\n",
    "    'CopayOutofNetComplex', 'CopayOutofNet',\n",
    "    'CoinsOutofNetComplex', 'CoinsOutofNet'\n",
    "]\n",
    "\n",
    "for col in benefits_int_cols:\n",
    "    print(f\"{col} unique values:\", benefits[col].unique())"
   ]
  },
  {
   "cell_type": "code",
   "execution_count": 28,
   "id": "d1c5000f-d469-4a90-8788-576e9401a362",
   "metadata": {},
   "outputs": [],
   "source": [
    "# Replace nan values by the code '99' for unknown and convert float to integers\n",
    "for col in benefits_int_cols:\n",
    "    benefits[col] = pd.to_numeric(benefits[col], errors='coerce').fillna(99).astype(int)"
   ]
  },
  {
   "cell_type": "code",
   "execution_count": 34,
   "id": "5197008f-c6ac-4328-8c42-8ae3bf918204",
   "metadata": {},
   "outputs": [],
   "source": [
    "benefits.to_csv('../data/normalized_tables/benefits.csv', index=False)"
   ]
  },
  {
   "cell_type": "code",
   "execution_count": 36,
   "id": "850fe742-8b97-42a7-a0e9-b77f38290d94",
   "metadata": {},
   "outputs": [
    {
     "data": {
      "text/html": [
       "<div>\n",
       "<style scoped>\n",
       "    .dataframe tbody tr th:only-of-type {\n",
       "        vertical-align: middle;\n",
       "    }\n",
       "\n",
       "    .dataframe tbody tr th {\n",
       "        vertical-align: top;\n",
       "    }\n",
       "\n",
       "    .dataframe thead th {\n",
       "        text-align: right;\n",
       "    }\n",
       "</style>\n",
       "<table border=\"1\" class=\"dataframe\">\n",
       "  <thead>\n",
       "    <tr style=\"text-align: right;\">\n",
       "      <th></th>\n",
       "      <th>PLANID</th>\n",
       "      <th>AREA</th>\n",
       "      <th>LIMITED</th>\n",
       "      <th>CopayInn_TIERS</th>\n",
       "      <th>CopayInnTier1Complex</th>\n",
       "      <th>CopayInnTier1</th>\n",
       "      <th>CopayInnTier1A</th>\n",
       "      <th>CopayInnTier2Complex</th>\n",
       "      <th>CopayInnTier2</th>\n",
       "      <th>CopayInnTier2A</th>\n",
       "      <th>...</th>\n",
       "      <th>CoinsInnTier2Complex</th>\n",
       "      <th>CoinsInnTier2</th>\n",
       "      <th>CoinsInnTier2A</th>\n",
       "      <th>CopayOutofNetComplex</th>\n",
       "      <th>CopayOutofNet</th>\n",
       "      <th>CopayOutofNetA</th>\n",
       "      <th>CoinsOutofNetComplex</th>\n",
       "      <th>CoinsOutofNet</th>\n",
       "      <th>CoinsOutofNetA</th>\n",
       "      <th>benefit_code</th>\n",
       "    </tr>\n",
       "  </thead>\n",
       "  <tbody>\n",
       "    <tr>\n",
       "      <th>0</th>\n",
       "      <td>73836AK0950001</td>\n",
       "      <td>AK01</td>\n",
       "      <td>0</td>\n",
       "      <td>1</td>\n",
       "      <td>0</td>\n",
       "      <td>0</td>\n",
       "      <td>NaN</td>\n",
       "      <td>0</td>\n",
       "      <td>0</td>\n",
       "      <td>NaN</td>\n",
       "      <td>...</td>\n",
       "      <td>0</td>\n",
       "      <td>0</td>\n",
       "      <td>NaN</td>\n",
       "      <td>0</td>\n",
       "      <td>0</td>\n",
       "      <td>NaN</td>\n",
       "      <td>0</td>\n",
       "      <td>4</td>\n",
       "      <td>40.0</td>\n",
       "      <td>AB</td>\n",
       "    </tr>\n",
       "    <tr>\n",
       "      <th>1</th>\n",
       "      <td>73836AK0950001</td>\n",
       "      <td>AK02</td>\n",
       "      <td>0</td>\n",
       "      <td>1</td>\n",
       "      <td>0</td>\n",
       "      <td>0</td>\n",
       "      <td>NaN</td>\n",
       "      <td>0</td>\n",
       "      <td>0</td>\n",
       "      <td>NaN</td>\n",
       "      <td>...</td>\n",
       "      <td>0</td>\n",
       "      <td>0</td>\n",
       "      <td>NaN</td>\n",
       "      <td>0</td>\n",
       "      <td>0</td>\n",
       "      <td>NaN</td>\n",
       "      <td>0</td>\n",
       "      <td>4</td>\n",
       "      <td>40.0</td>\n",
       "      <td>AB</td>\n",
       "    </tr>\n",
       "    <tr>\n",
       "      <th>2</th>\n",
       "      <td>73836AK0930001</td>\n",
       "      <td>AK02</td>\n",
       "      <td>0</td>\n",
       "      <td>1</td>\n",
       "      <td>0</td>\n",
       "      <td>0</td>\n",
       "      <td>NaN</td>\n",
       "      <td>0</td>\n",
       "      <td>0</td>\n",
       "      <td>NaN</td>\n",
       "      <td>...</td>\n",
       "      <td>0</td>\n",
       "      <td>0</td>\n",
       "      <td>NaN</td>\n",
       "      <td>0</td>\n",
       "      <td>0</td>\n",
       "      <td>NaN</td>\n",
       "      <td>0</td>\n",
       "      <td>4</td>\n",
       "      <td>30.0</td>\n",
       "      <td>AB</td>\n",
       "    </tr>\n",
       "    <tr>\n",
       "      <th>3</th>\n",
       "      <td>73836AK0950001</td>\n",
       "      <td>AK03</td>\n",
       "      <td>0</td>\n",
       "      <td>1</td>\n",
       "      <td>0</td>\n",
       "      <td>0</td>\n",
       "      <td>NaN</td>\n",
       "      <td>0</td>\n",
       "      <td>0</td>\n",
       "      <td>NaN</td>\n",
       "      <td>...</td>\n",
       "      <td>0</td>\n",
       "      <td>0</td>\n",
       "      <td>NaN</td>\n",
       "      <td>0</td>\n",
       "      <td>0</td>\n",
       "      <td>NaN</td>\n",
       "      <td>0</td>\n",
       "      <td>4</td>\n",
       "      <td>40.0</td>\n",
       "      <td>AB</td>\n",
       "    </tr>\n",
       "    <tr>\n",
       "      <th>4</th>\n",
       "      <td>73836AK0930001</td>\n",
       "      <td>AK03</td>\n",
       "      <td>0</td>\n",
       "      <td>1</td>\n",
       "      <td>0</td>\n",
       "      <td>0</td>\n",
       "      <td>NaN</td>\n",
       "      <td>0</td>\n",
       "      <td>0</td>\n",
       "      <td>NaN</td>\n",
       "      <td>...</td>\n",
       "      <td>0</td>\n",
       "      <td>0</td>\n",
       "      <td>NaN</td>\n",
       "      <td>0</td>\n",
       "      <td>0</td>\n",
       "      <td>NaN</td>\n",
       "      <td>0</td>\n",
       "      <td>4</td>\n",
       "      <td>30.0</td>\n",
       "      <td>AB</td>\n",
       "    </tr>\n",
       "  </tbody>\n",
       "</table>\n",
       "<p>5 rows × 24 columns</p>\n",
       "</div>"
      ],
      "text/plain": [
       "           PLANID  AREA  LIMITED  CopayInn_TIERS  CopayInnTier1Complex  \\\n",
       "0  73836AK0950001  AK01        0               1                     0   \n",
       "1  73836AK0950001  AK02        0               1                     0   \n",
       "2  73836AK0930001  AK02        0               1                     0   \n",
       "3  73836AK0950001  AK03        0               1                     0   \n",
       "4  73836AK0930001  AK03        0               1                     0   \n",
       "\n",
       "   CopayInnTier1  CopayInnTier1A  CopayInnTier2Complex  CopayInnTier2  \\\n",
       "0              0             NaN                     0              0   \n",
       "1              0             NaN                     0              0   \n",
       "2              0             NaN                     0              0   \n",
       "3              0             NaN                     0              0   \n",
       "4              0             NaN                     0              0   \n",
       "\n",
       "   CopayInnTier2A  ...  CoinsInnTier2Complex  CoinsInnTier2  CoinsInnTier2A  \\\n",
       "0             NaN  ...                     0              0             NaN   \n",
       "1             NaN  ...                     0              0             NaN   \n",
       "2             NaN  ...                     0              0             NaN   \n",
       "3             NaN  ...                     0              0             NaN   \n",
       "4             NaN  ...                     0              0             NaN   \n",
       "\n",
       "   CopayOutofNetComplex  CopayOutofNet  CopayOutofNetA  CoinsOutofNetComplex  \\\n",
       "0                     0              0             NaN                     0   \n",
       "1                     0              0             NaN                     0   \n",
       "2                     0              0             NaN                     0   \n",
       "3                     0              0             NaN                     0   \n",
       "4                     0              0             NaN                     0   \n",
       "\n",
       "   CoinsOutofNet  CoinsOutofNetA  benefit_code  \n",
       "0              4            40.0            AB  \n",
       "1              4            40.0            AB  \n",
       "2              4            30.0            AB  \n",
       "3              4            40.0            AB  \n",
       "4              4            30.0            AB  \n",
       "\n",
       "[5 rows x 24 columns]"
      ]
     },
     "execution_count": 36,
     "metadata": {},
     "output_type": "execute_result"
    }
   ],
   "source": [
    "# nan values are ok when we want the column datatype to be numeric\n",
    "benefits.head()"
   ]
  },
  {
   "cell_type": "code",
   "execution_count": 44,
   "id": "1830d40a-242a-49e7-b236-8b493d51ac65",
   "metadata": {},
   "outputs": [
    {
     "data": {
      "text/html": [
       "<div>\n",
       "<style scoped>\n",
       "    .dataframe tbody tr th:only-of-type {\n",
       "        vertical-align: middle;\n",
       "    }\n",
       "\n",
       "    .dataframe tbody tr th {\n",
       "        vertical-align: top;\n",
       "    }\n",
       "\n",
       "    .dataframe thead th {\n",
       "        text-align: right;\n",
       "    }\n",
       "</style>\n",
       "<table border=\"1\" class=\"dataframe\">\n",
       "  <thead>\n",
       "    <tr style=\"text-align: right;\">\n",
       "      <th></th>\n",
       "      <th>PLANID</th>\n",
       "      <th>AREA</th>\n",
       "      <th>ST</th>\n",
       "      <th>PREMI21_BASE</th>\n",
       "      <th>PREMI2C30</th>\n",
       "      <th>PREMC2C30</th>\n",
       "    </tr>\n",
       "  </thead>\n",
       "  <tbody>\n",
       "    <tr>\n",
       "      <th>0</th>\n",
       "      <td>73836AK0950001</td>\n",
       "      <td>AK01</td>\n",
       "      <td>AK</td>\n",
       "      <td>789.122137</td>\n",
       "      <td>2104.0</td>\n",
       "      <td>3000.0</td>\n",
       "    </tr>\n",
       "    <tr>\n",
       "      <th>1</th>\n",
       "      <td>73836AK0950001</td>\n",
       "      <td>AK02</td>\n",
       "      <td>AK</td>\n",
       "      <td>830.152672</td>\n",
       "      <td>2212.0</td>\n",
       "      <td>3154.0</td>\n",
       "    </tr>\n",
       "    <tr>\n",
       "      <th>2</th>\n",
       "      <td>73836AK0930001</td>\n",
       "      <td>AK02</td>\n",
       "      <td>AK</td>\n",
       "      <td>745.229008</td>\n",
       "      <td>1985.0</td>\n",
       "      <td>2830.0</td>\n",
       "    </tr>\n",
       "    <tr>\n",
       "      <th>3</th>\n",
       "      <td>73836AK0950001</td>\n",
       "      <td>AK03</td>\n",
       "      <td>AK</td>\n",
       "      <td>808.206107</td>\n",
       "      <td>2153.0</td>\n",
       "      <td>3070.0</td>\n",
       "    </tr>\n",
       "    <tr>\n",
       "      <th>4</th>\n",
       "      <td>73836AK0930001</td>\n",
       "      <td>AK03</td>\n",
       "      <td>AK</td>\n",
       "      <td>725.190840</td>\n",
       "      <td>1933.0</td>\n",
       "      <td>2756.0</td>\n",
       "    </tr>\n",
       "  </tbody>\n",
       "</table>\n",
       "</div>"
      ],
      "text/plain": [
       "           PLANID  AREA  ST  PREMI21_BASE  PREMI2C30  PREMC2C30\n",
       "0  73836AK0950001  AK01  AK    789.122137     2104.0     3000.0\n",
       "1  73836AK0950001  AK02  AK    830.152672     2212.0     3154.0\n",
       "2  73836AK0930001  AK02  AK    745.229008     1985.0     2830.0\n",
       "3  73836AK0950001  AK03  AK    808.206107     2153.0     3070.0\n",
       "4  73836AK0930001  AK03  AK    725.190840     1933.0     2756.0"
      ]
     },
     "execution_count": 44,
     "metadata": {},
     "output_type": "execute_result"
    }
   ],
   "source": [
    "# Since we originally created PREMI21_BASE as a fraction of PREMI27/(multiplier for 27), it is stored as a long decimal\n",
    "\n",
    "premium.head()"
   ]
  },
  {
   "cell_type": "code",
   "execution_count": 46,
   "id": "08d04988-bdf4-44bd-a2ab-cbf80c43cf37",
   "metadata": {},
   "outputs": [],
   "source": [
    "# We want to round up PREMI21_BASE to 2 decimal places, as it is supposed to be dollar value\n",
    "\n",
    "premium['PREMI21_BASE'] = premium['PREMI21_BASE'].round(2)\n",
    "premium.to_csv('../data/normalized_tables/premium.csv', index=False)"
   ]
  },
  {
   "cell_type": "code",
   "execution_count": 54,
   "id": "68990dff-a894-4620-adf8-2ad537a39985",
   "metadata": {},
   "outputs": [
    {
     "data": {
      "text/html": [
       "<div>\n",
       "<style scoped>\n",
       "    .dataframe tbody tr th:only-of-type {\n",
       "        vertical-align: middle;\n",
       "    }\n",
       "\n",
       "    .dataframe tbody tr th {\n",
       "        vertical-align: top;\n",
       "    }\n",
       "\n",
       "    .dataframe thead th {\n",
       "        text-align: right;\n",
       "    }\n",
       "</style>\n",
       "<table border=\"1\" class=\"dataframe\">\n",
       "  <thead>\n",
       "    <tr style=\"text-align: right;\">\n",
       "      <th></th>\n",
       "      <th>ZIP</th>\n",
       "      <th>COUNTY</th>\n",
       "      <th>ST</th>\n",
       "      <th>FIPS</th>\n",
       "    </tr>\n",
       "  </thead>\n",
       "  <tbody>\n",
       "    <tr>\n",
       "      <th>0</th>\n",
       "      <td>36003</td>\n",
       "      <td>Autauga County</td>\n",
       "      <td>AL</td>\n",
       "      <td>1001</td>\n",
       "    </tr>\n",
       "    <tr>\n",
       "      <th>1</th>\n",
       "      <td>36006</td>\n",
       "      <td>Autauga County</td>\n",
       "      <td>AL</td>\n",
       "      <td>1001</td>\n",
       "    </tr>\n",
       "    <tr>\n",
       "      <th>2</th>\n",
       "      <td>36067</td>\n",
       "      <td>Autauga County</td>\n",
       "      <td>AL</td>\n",
       "      <td>1001</td>\n",
       "    </tr>\n",
       "    <tr>\n",
       "      <th>3</th>\n",
       "      <td>36066</td>\n",
       "      <td>Autauga County</td>\n",
       "      <td>AL</td>\n",
       "      <td>1001</td>\n",
       "    </tr>\n",
       "    <tr>\n",
       "      <th>4</th>\n",
       "      <td>36703</td>\n",
       "      <td>Autauga County</td>\n",
       "      <td>AL</td>\n",
       "      <td>1001</td>\n",
       "    </tr>\n",
       "  </tbody>\n",
       "</table>\n",
       "</div>"
      ],
      "text/plain": [
       "     ZIP          COUNTY  ST  FIPS\n",
       "0  36003  Autauga County  AL  1001\n",
       "1  36006  Autauga County  AL  1001\n",
       "2  36067  Autauga County  AL  1001\n",
       "3  36066  Autauga County  AL  1001\n",
       "4  36703  Autauga County  AL  1001"
      ]
     },
     "execution_count": 54,
     "metadata": {},
     "output_type": "execute_result"
    }
   ],
   "source": [
    "# The Kaggle dataset for ZIP-COUNTY-FIP CROSSWALK seemed like it had all unique values for ZIP\n",
    "\n",
    "zip_fips.head()"
   ]
  },
  {
   "cell_type": "code",
   "execution_count": 84,
   "id": "8557f807-fac9-40b9-aa9f-6ac8713e6a5d",
   "metadata": {},
   "outputs": [
    {
     "name": "stdout",
     "output_type": "stream",
     "text": [
      "Number of duplicate ZIP: 13433\n",
      "Number of duplicate COUNTY: 50931\n",
      "Number of duplicate ST: 52835\n",
      "Number of duplicate FIPS: 49666\n"
     ]
    }
   ],
   "source": [
    "# However, we have repeated values for ZIP, perhaps because one ZIP code could be linked to 2 counties.\n",
    "\n",
    "for col in zip_fips.columns:\n",
    "    col_duplicates = zip_fips[zip_fips[col].duplicated()]\n",
    "    print(f\"Number of duplicate {col}: {len(col_duplicates)}\")"
   ]
  },
  {
   "cell_type": "code",
   "execution_count": 64,
   "id": "1f785e99-cc5f-4b6d-85b5-c4191d095f2f",
   "metadata": {},
   "outputs": [
    {
     "data": {
      "text/html": [
       "<div>\n",
       "<style scoped>\n",
       "    .dataframe tbody tr th:only-of-type {\n",
       "        vertical-align: middle;\n",
       "    }\n",
       "\n",
       "    .dataframe tbody tr th {\n",
       "        vertical-align: top;\n",
       "    }\n",
       "\n",
       "    .dataframe thead th {\n",
       "        text-align: right;\n",
       "    }\n",
       "</style>\n",
       "<table border=\"1\" class=\"dataframe\">\n",
       "  <thead>\n",
       "    <tr style=\"text-align: right;\">\n",
       "      <th></th>\n",
       "      <th>ZIP</th>\n",
       "      <th>COUNTY</th>\n",
       "      <th>ST</th>\n",
       "      <th>FIPS</th>\n",
       "    </tr>\n",
       "  </thead>\n",
       "  <tbody>\n",
       "    <tr>\n",
       "      <th>46</th>\n",
       "      <td>36053</td>\n",
       "      <td>Barbour County</td>\n",
       "      <td>AL</td>\n",
       "      <td>1005</td>\n",
       "    </tr>\n",
       "    <tr>\n",
       "      <th>85</th>\n",
       "      <td>36053</td>\n",
       "      <td>Bullock County</td>\n",
       "      <td>AL</td>\n",
       "      <td>1011</td>\n",
       "    </tr>\n",
       "  </tbody>\n",
       "</table>\n",
       "</div>"
      ],
      "text/plain": [
       "      ZIP          COUNTY  ST  FIPS\n",
       "46  36053  Barbour County  AL  1005\n",
       "85  36053  Bullock County  AL  1011"
      ]
     },
     "execution_count": 64,
     "metadata": {},
     "output_type": "execute_result"
    }
   ],
   "source": [
    "# For example, let's look at all rows where ZIP = 36053\n",
    "\n",
    "zip_fips[zip_fips['ZIP'] == 36053]"
   ]
  },
  {
   "cell_type": "code",
   "execution_count": 88,
   "id": "d32adadd-f4e1-4c09-98a7-d2fd24521da0",
   "metadata": {},
   "outputs": [
    {
     "name": "stdout",
     "output_type": "stream",
     "text": [
      "Is (ZIP, COUNTY) unique for all rows?: True\n"
     ]
    }
   ],
   "source": [
    "is_unique = zip_fips[['ZIP', 'COUNTY']].duplicated().any()\n",
    "print(\"Is (ZIP, COUNTY) unique for all rows?:\", not is_unique)"
   ]
  },
  {
   "cell_type": "code",
   "execution_count": 72,
   "id": "441081a0-de36-433b-bb1f-2cfc80939ffe",
   "metadata": {},
   "outputs": [
    {
     "data": {
      "text/html": [
       "<div>\n",
       "<style scoped>\n",
       "    .dataframe tbody tr th:only-of-type {\n",
       "        vertical-align: middle;\n",
       "    }\n",
       "\n",
       "    .dataframe tbody tr th {\n",
       "        vertical-align: top;\n",
       "    }\n",
       "\n",
       "    .dataframe thead th {\n",
       "        text-align: right;\n",
       "    }\n",
       "</style>\n",
       "<table border=\"1\" class=\"dataframe\">\n",
       "  <thead>\n",
       "    <tr style=\"text-align: right;\">\n",
       "      <th></th>\n",
       "      <th>FIPS</th>\n",
       "      <th>COUNTY</th>\n",
       "      <th>AREA_COUNT</th>\n",
       "      <th>AREA</th>\n",
       "    </tr>\n",
       "  </thead>\n",
       "  <tbody>\n",
       "    <tr>\n",
       "      <th>0</th>\n",
       "      <td>1001</td>\n",
       "      <td>Autauga County</td>\n",
       "      <td>1</td>\n",
       "      <td>AL11</td>\n",
       "    </tr>\n",
       "    <tr>\n",
       "      <th>1</th>\n",
       "      <td>1003</td>\n",
       "      <td>Baldwin County</td>\n",
       "      <td>1</td>\n",
       "      <td>AL13</td>\n",
       "    </tr>\n",
       "    <tr>\n",
       "      <th>2</th>\n",
       "      <td>1005</td>\n",
       "      <td>Barbour County</td>\n",
       "      <td>1</td>\n",
       "      <td>AL13</td>\n",
       "    </tr>\n",
       "    <tr>\n",
       "      <th>3</th>\n",
       "      <td>1007</td>\n",
       "      <td>Bibb County</td>\n",
       "      <td>1</td>\n",
       "      <td>AL03</td>\n",
       "    </tr>\n",
       "    <tr>\n",
       "      <th>4</th>\n",
       "      <td>1009</td>\n",
       "      <td>Blount County</td>\n",
       "      <td>1</td>\n",
       "      <td>AL03</td>\n",
       "    </tr>\n",
       "  </tbody>\n",
       "</table>\n",
       "</div>"
      ],
      "text/plain": [
       "   FIPS          COUNTY  AREA_COUNT  AREA\n",
       "0  1001  Autauga County           1  AL11\n",
       "1  1003  Baldwin County           1  AL13\n",
       "2  1005  Barbour County           1  AL13\n",
       "3  1007     Bibb County           1  AL03\n",
       "4  1009   Blount County           1  AL03"
      ]
     },
     "execution_count": 72,
     "metadata": {},
     "output_type": "execute_result"
    }
   ],
   "source": [
    "county_area.head()"
   ]
  },
  {
   "cell_type": "code",
   "execution_count": 80,
   "id": "e6c1502b-4c4e-4549-84a5-91ebc699f6ce",
   "metadata": {},
   "outputs": [
    {
     "name": "stdout",
     "output_type": "stream",
     "text": [
      "[ 2013  2016  2020  2050  2063  2070  2122  2150  2158  2164  2290  6037\n",
      " 25005 25007 25013 25017 25021 25023 25027]\n"
     ]
    }
   ],
   "source": [
    "repeated_fips = county_area['FIPS'][county_area['FIPS'].duplicated()]\n",
    "print(repeated_fips.unique())"
   ]
  },
  {
   "cell_type": "code",
   "execution_count": 86,
   "id": "2107bd65-1f6f-419e-936d-485e6dfc4c4c",
   "metadata": {},
   "outputs": [
    {
     "name": "stdout",
     "output_type": "stream",
     "text": [
      "Number of duplicate FIPS: 24\n",
      "Number of duplicate COUNTY: 1289\n",
      "Number of duplicate AREA_COUNT: 3163\n",
      "Number of duplicate AREA: 2663\n"
     ]
    }
   ],
   "source": [
    "for col in county_area.columns:\n",
    "    col_duplicates = county_area[county_area[col].duplicated()]\n",
    "    print(f\"Number of duplicate {col}: {len(col_duplicates)}\")"
   ]
  },
  {
   "cell_type": "code",
   "execution_count": null,
   "id": "0de9b8be-b8db-4f82-94d2-33f2bbf35d05",
   "metadata": {},
   "outputs": [],
   "source": []
  }
 ],
 "metadata": {
  "kernelspec": {
   "display_name": "Python (erdos_spring_2025)",
   "language": "python",
   "name": "erdos_spring_2025"
  },
  "language_info": {
   "codemirror_mode": {
    "name": "ipython",
    "version": 3
   },
   "file_extension": ".py",
   "mimetype": "text/x-python",
   "name": "python",
   "nbconvert_exporter": "python",
   "pygments_lexer": "ipython3",
   "version": "3.12.8"
  }
 },
 "nbformat": 4,
 "nbformat_minor": 5
}
